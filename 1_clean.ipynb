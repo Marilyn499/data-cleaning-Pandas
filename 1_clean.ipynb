{
 "cells": [
  {
   "cell_type": "code",
   "execution_count": 1,
   "metadata": {},
   "outputs": [],
   "source": [
    "import pandas as pd\n",
    "import numpy as np\n",
    "import missingno as msno\n",
    "import re"
   ]
  },
  {
   "cell_type": "code",
   "execution_count": 2,
   "metadata": {},
   "outputs": [],
   "source": [
    "#✅RUN\n",
    "shark = pd.read_csv(\"data/attacks.csv\",encoding = \"ISO-8859-1\")"
   ]
  },
  {
   "cell_type": "code",
   "execution_count": 3,
   "metadata": {},
   "outputs": [
    {
     "name": "stdout",
     "output_type": "stream",
     "text": [
      "<class 'pandas.core.frame.DataFrame'>\n",
      "RangeIndex: 25723 entries, 0 to 25722\n",
      "Data columns (total 24 columns):\n",
      " #   Column                  Non-Null Count  Dtype  \n",
      "---  ------                  --------------  -----  \n",
      " 0   Case Number             8702 non-null   object \n",
      " 1   Date                    6302 non-null   object \n",
      " 2   Year                    6300 non-null   float64\n",
      " 3   Type                    6298 non-null   object \n",
      " 4   Country                 6252 non-null   object \n",
      " 5   Area                    5847 non-null   object \n",
      " 6   Location                5762 non-null   object \n",
      " 7   Activity                5758 non-null   object \n",
      " 8   Name                    6092 non-null   object \n",
      " 9   Sex                     5737 non-null   object \n",
      " 10  Age                     3471 non-null   object \n",
      " 11  Injury                  6274 non-null   object \n",
      " 12  Fatal (Y/N)             5763 non-null   object \n",
      " 13  Time                    2948 non-null   object \n",
      " 14  Species                 3464 non-null   object \n",
      " 15  Investigator or Source  6285 non-null   object \n",
      " 16  pdf                     6302 non-null   object \n",
      " 17  href formula            6301 non-null   object \n",
      " 18  href                    6302 non-null   object \n",
      " 19  Case Number.1           6302 non-null   object \n",
      " 20  Case Number.2           6302 non-null   object \n",
      " 21  original order          6309 non-null   float64\n",
      " 22  Unnamed: 22             1 non-null      object \n",
      " 23  Unnamed: 23             2 non-null      object \n",
      "dtypes: float64(2), object(22)\n",
      "memory usage: 4.7+ MB\n"
     ]
    },
    {
     "data": {
      "text/plain": [
       "'Número de caso, fecha, edad, Time, Case Number 1 y 2 \\n    son un tipo de datos string,\\n    para trabajar con ello se debe cambiar a number'"
      ]
     },
     "execution_count": 3,
     "metadata": {},
     "output_type": "execute_result"
    }
   ],
   "source": [
    "#✅RUN\n",
    "shark.info()\n",
    "'''Número de caso, fecha, edad, Time, Case Number 1 y 2 \n",
    "    son un tipo de datos string,\n",
    "    para trabajar con ello se debe cambiar a number'''"
   ]
  },
  {
   "cell_type": "code",
   "execution_count": 4,
   "metadata": {},
   "outputs": [
    {
     "data": {
      "text/html": [
       "<div>\n",
       "<style scoped>\n",
       "    .dataframe tbody tr th:only-of-type {\n",
       "        vertical-align: middle;\n",
       "    }\n",
       "\n",
       "    .dataframe tbody tr th {\n",
       "        vertical-align: top;\n",
       "    }\n",
       "\n",
       "    .dataframe thead th {\n",
       "        text-align: right;\n",
       "    }\n",
       "</style>\n",
       "<table border=\"1\" class=\"dataframe\">\n",
       "  <thead>\n",
       "    <tr style=\"text-align: right;\">\n",
       "      <th></th>\n",
       "      <th>Case Number</th>\n",
       "      <th>Date</th>\n",
       "      <th>Year</th>\n",
       "      <th>Type</th>\n",
       "      <th>Country</th>\n",
       "      <th>Area</th>\n",
       "      <th>Location</th>\n",
       "      <th>Activity</th>\n",
       "      <th>Name</th>\n",
       "      <th>Sex</th>\n",
       "      <th>...</th>\n",
       "      <th>Species</th>\n",
       "      <th>Investigator or Source</th>\n",
       "      <th>pdf</th>\n",
       "      <th>href formula</th>\n",
       "      <th>href</th>\n",
       "      <th>Case Number.1</th>\n",
       "      <th>Case Number.2</th>\n",
       "      <th>original order</th>\n",
       "      <th>Unnamed: 22</th>\n",
       "      <th>Unnamed: 23</th>\n",
       "    </tr>\n",
       "  </thead>\n",
       "  <tbody>\n",
       "    <tr>\n",
       "      <th>23058</th>\n",
       "      <td>NaN</td>\n",
       "      <td>NaN</td>\n",
       "      <td>NaN</td>\n",
       "      <td>NaN</td>\n",
       "      <td>NaN</td>\n",
       "      <td>NaN</td>\n",
       "      <td>NaN</td>\n",
       "      <td>NaN</td>\n",
       "      <td>NaN</td>\n",
       "      <td>NaN</td>\n",
       "      <td>...</td>\n",
       "      <td>NaN</td>\n",
       "      <td>NaN</td>\n",
       "      <td>NaN</td>\n",
       "      <td>NaN</td>\n",
       "      <td>NaN</td>\n",
       "      <td>NaN</td>\n",
       "      <td>NaN</td>\n",
       "      <td>NaN</td>\n",
       "      <td>NaN</td>\n",
       "      <td>NaN</td>\n",
       "    </tr>\n",
       "  </tbody>\n",
       "</table>\n",
       "<p>1 rows × 24 columns</p>\n",
       "</div>"
      ],
      "text/plain": [
       "      Case Number Date  Year Type Country Area Location Activity Name Sex   \\\n",
       "23058         NaN  NaN   NaN  NaN     NaN  NaN      NaN      NaN  NaN  NaN   \n",
       "\n",
       "       ... Species  Investigator or Source  pdf href formula href  \\\n",
       "23058  ...      NaN                    NaN  NaN          NaN  NaN   \n",
       "\n",
       "      Case Number.1 Case Number.2 original order Unnamed: 22 Unnamed: 23  \n",
       "23058           NaN           NaN            NaN         NaN         NaN  \n",
       "\n",
       "[1 rows x 24 columns]"
      ]
     },
     "execution_count": 4,
     "metadata": {},
     "output_type": "execute_result"
    }
   ],
   "source": [
    "#✅RUN\n",
    "shark.sample()"
   ]
  },
  {
   "cell_type": "code",
   "execution_count": 5,
   "metadata": {},
   "outputs": [
    {
     "data": {
      "text/plain": [
       "(25723, 24)"
      ]
     },
     "execution_count": 5,
     "metadata": {},
     "output_type": "execute_result"
    }
   ],
   "source": [
    "#✅RUN\n",
    "shark.shape"
   ]
  },
  {
   "cell_type": "code",
   "execution_count": 6,
   "metadata": {},
   "outputs": [],
   "source": [
    "#✅RUN\n",
    "#Elimino las columnas que no voy a utilizar para la hipótesis\n",
    "shark = shark.drop(['pdf','href','Case Number.1','Case Number.2','original order','Unnamed: 22','Unnamed: 23'], axis=1)"
   ]
  },
  {
   "cell_type": "code",
   "execution_count": 7,
   "metadata": {
    "scrolled": true
   },
   "outputs": [
    {
     "data": {
      "text/html": [
       "<div>\n",
       "<style scoped>\n",
       "    .dataframe tbody tr th:only-of-type {\n",
       "        vertical-align: middle;\n",
       "    }\n",
       "\n",
       "    .dataframe tbody tr th {\n",
       "        vertical-align: top;\n",
       "    }\n",
       "\n",
       "    .dataframe thead th {\n",
       "        text-align: right;\n",
       "    }\n",
       "</style>\n",
       "<table border=\"1\" class=\"dataframe\">\n",
       "  <thead>\n",
       "    <tr style=\"text-align: right;\">\n",
       "      <th></th>\n",
       "      <th>Case Number</th>\n",
       "      <th>Date</th>\n",
       "      <th>Type</th>\n",
       "      <th>Country</th>\n",
       "      <th>Area</th>\n",
       "      <th>Location</th>\n",
       "      <th>Activity</th>\n",
       "      <th>Name</th>\n",
       "      <th>Sex</th>\n",
       "      <th>Age</th>\n",
       "      <th>Injury</th>\n",
       "      <th>Fatal (Y/N)</th>\n",
       "      <th>Time</th>\n",
       "      <th>Species</th>\n",
       "      <th>Investigator or Source</th>\n",
       "      <th>href formula</th>\n",
       "    </tr>\n",
       "  </thead>\n",
       "  <tbody>\n",
       "    <tr>\n",
       "      <th>count</th>\n",
       "      <td>8702</td>\n",
       "      <td>6302</td>\n",
       "      <td>6298</td>\n",
       "      <td>6252</td>\n",
       "      <td>5847</td>\n",
       "      <td>5762</td>\n",
       "      <td>5758</td>\n",
       "      <td>6092</td>\n",
       "      <td>5737</td>\n",
       "      <td>3471</td>\n",
       "      <td>6274</td>\n",
       "      <td>5763</td>\n",
       "      <td>2948</td>\n",
       "      <td>3464</td>\n",
       "      <td>6285</td>\n",
       "      <td>6301</td>\n",
       "    </tr>\n",
       "    <tr>\n",
       "      <th>unique</th>\n",
       "      <td>6287</td>\n",
       "      <td>5433</td>\n",
       "      <td>8</td>\n",
       "      <td>212</td>\n",
       "      <td>825</td>\n",
       "      <td>4108</td>\n",
       "      <td>1532</td>\n",
       "      <td>5230</td>\n",
       "      <td>6</td>\n",
       "      <td>157</td>\n",
       "      <td>3737</td>\n",
       "      <td>8</td>\n",
       "      <td>366</td>\n",
       "      <td>1549</td>\n",
       "      <td>4969</td>\n",
       "      <td>6290</td>\n",
       "    </tr>\n",
       "    <tr>\n",
       "      <th>top</th>\n",
       "      <td>0</td>\n",
       "      <td>1957</td>\n",
       "      <td>Unprovoked</td>\n",
       "      <td>USA</td>\n",
       "      <td>Florida</td>\n",
       "      <td>New Smyrna Beach, Volusia County</td>\n",
       "      <td>Surfing</td>\n",
       "      <td>male</td>\n",
       "      <td>M</td>\n",
       "      <td>17</td>\n",
       "      <td>FATAL</td>\n",
       "      <td>N</td>\n",
       "      <td>Afternoon</td>\n",
       "      <td>White shark</td>\n",
       "      <td>C. Moore, GSAF</td>\n",
       "      <td>http://sharkattackfile.net/spreadsheets/pdf_di...</td>\n",
       "    </tr>\n",
       "    <tr>\n",
       "      <th>freq</th>\n",
       "      <td>2400</td>\n",
       "      <td>11</td>\n",
       "      <td>4595</td>\n",
       "      <td>2229</td>\n",
       "      <td>1037</td>\n",
       "      <td>163</td>\n",
       "      <td>971</td>\n",
       "      <td>550</td>\n",
       "      <td>5094</td>\n",
       "      <td>154</td>\n",
       "      <td>802</td>\n",
       "      <td>4293</td>\n",
       "      <td>187</td>\n",
       "      <td>163</td>\n",
       "      <td>105</td>\n",
       "      <td>2</td>\n",
       "    </tr>\n",
       "  </tbody>\n",
       "</table>\n",
       "</div>"
      ],
      "text/plain": [
       "       Case Number  Date        Type Country     Area  \\\n",
       "count         8702  6302        6298    6252     5847   \n",
       "unique        6287  5433           8     212      825   \n",
       "top              0  1957  Unprovoked     USA  Florida   \n",
       "freq          2400    11        4595    2229     1037   \n",
       "\n",
       "                                Location Activity  Name  Sex    Age Injury  \\\n",
       "count                               5762     5758  6092  5737  3471   6274   \n",
       "unique                              4108     1532  5230     6   157   3737   \n",
       "top     New Smyrna Beach, Volusia County  Surfing  male     M    17  FATAL   \n",
       "freq                                 163      971   550  5094   154    802   \n",
       "\n",
       "       Fatal (Y/N)       Time     Species  Investigator or Source  \\\n",
       "count         5763       2948         3464                   6285   \n",
       "unique           8        366         1549                   4969   \n",
       "top              N  Afternoon  White shark         C. Moore, GSAF   \n",
       "freq          4293        187          163                    105   \n",
       "\n",
       "                                             href formula  \n",
       "count                                                6301  \n",
       "unique                                               6290  \n",
       "top     http://sharkattackfile.net/spreadsheets/pdf_di...  \n",
       "freq                                                    2  "
      ]
     },
     "execution_count": 7,
     "metadata": {},
     "output_type": "execute_result"
    }
   ],
   "source": [
    "#✅RUN\n",
    "'''Muestro una descripción de los datos:\n",
    "count: contabiliza el total de datos\n",
    "unique: total de valores únicos\n",
    "top: el valor que más se repite\n",
    "freq: frecuencia con la que se repite el valor anterior'''\n",
    "shark.describe(include='O')"
   ]
  },
  {
   "cell_type": "code",
   "execution_count": 8,
   "metadata": {},
   "outputs": [],
   "source": [
    "#shark.sample()"
   ]
  },
  {
   "cell_type": "code",
   "execution_count": 9,
   "metadata": {},
   "outputs": [
    {
     "data": {
      "text/plain": [
       "array(['25-Jun-2018', '18-Jun-2018', '09-Jun-2018', ..., '1883-1889',\n",
       "       '1845-1853', nan], dtype=object)"
      ]
     },
     "execution_count": 9,
     "metadata": {},
     "output_type": "execute_result"
    }
   ],
   "source": [
    "#✅RUN\n",
    "'''Si utilizo esta columna debo convertir las fechas a el mismo formato todas Date(dd-Month-yyyy) \n",
    "para tener uniformidad'''\n",
    "shark[\"Date\"].unique()"
   ]
  },
  {
   "cell_type": "code",
   "execution_count": 10,
   "metadata": {},
   "outputs": [
    {
     "data": {
      "text/plain": [
       "Case Number               17021\n",
       "Date                      19421\n",
       "Year                      19423\n",
       "Type                      19425\n",
       "Country                   19471\n",
       "Area                      19876\n",
       "Location                  19961\n",
       "Activity                  19965\n",
       "Name                      19631\n",
       "Sex                       19986\n",
       "Age                       22252\n",
       "Injury                    19449\n",
       "Fatal (Y/N)               19960\n",
       "Time                      22775\n",
       "Species                   22259\n",
       "Investigator or Source    19438\n",
       "href formula              19422\n",
       "dtype: int64"
      ]
     },
     "execution_count": 10,
     "metadata": {},
     "output_type": "execute_result"
    }
   ],
   "source": [
    "#✅RUN\n",
    "'''Todas las columnas tienen gran cantidad de datos nulos'''\n",
    "mising_values_count = shark.isna().sum()\n",
    "mising_values_count"
   ]
  },
  {
   "cell_type": "code",
   "execution_count": 11,
   "metadata": {},
   "outputs": [
    {
     "data": {
      "text/plain": [
       "78"
      ]
     },
     "execution_count": 11,
     "metadata": {},
     "output_type": "execute_result"
    }
   ],
   "source": [
    "#✅RUN\n",
    "#Verificar el porcentaje de datos nulos\n",
    "total_cells = np.product(shark.shape)\n",
    "total_missing = mising_values_count.sum()\n",
    "\n",
    "percentage = round((total_missing/total_cells) * 100)\n",
    "percentage\n",
    "#El 78% de las celdas tienen datos nulos"
   ]
  },
  {
   "cell_type": "code",
   "execution_count": 12,
   "metadata": {},
   "outputs": [],
   "source": [
    "#shark.shape"
   ]
  },
  {
   "cell_type": "code",
   "execution_count": 13,
   "metadata": {
    "scrolled": true
   },
   "outputs": [
    {
     "data": {
      "image/png": "[encoded data removed]",
      "text/plain": [
       "<Figure size 1800x720 with 3 Axes>"
      ]
     },
     "metadata": {
      "needs_background": "light"
     },
     "output_type": "display_data"
    }
   ],
   "source": [
    "#✅RUN\n",
    "'''Veo en una gráfica cuantos datos están correctos (número de arriba) en base al número de filas, \n",
    "se observa que faltan muchos valores'''\n",
    "msno.bar(shark); "
   ]
  },
  {
   "cell_type": "code",
   "execution_count": 14,
   "metadata": {},
   "outputs": [
    {
     "data": {
      "image/png": "[encoded data removed]",
      "text/plain": [
       "<Figure size 1800x720 with 2 Axes>"
      ]
     },
     "metadata": {
      "needs_background": "light"
     },
     "output_type": "display_data"
    }
   ],
   "source": [
    "#✅RUN\n",
    "'''Las barras con más líneas en blanco indica la ubicación de los datos nulos,\n",
    "las más perjudicadas son Age, Time y Species'''\n",
    "msno.matrix(shark);"
   ]
  },
  {
   "cell_type": "code",
   "execution_count": 15,
   "metadata": {},
   "outputs": [
    {
     "data": {
      "text/plain": [
       "'Observamos que las últimas filas tienen casi todos sus valores NaN pero sin saber con\\nexactitud cuantas columnas son'"
      ]
     },
     "execution_count": 15,
     "metadata": {},
     "output_type": "execute_result"
    }
   ],
   "source": [
    "'''Observamos que las últimas filas tienen casi todos sus valores NaN pero sin saber con\n",
    "exactitud cuantas columnas son'''\n",
    "#shark[shark.isna().any(1)]"
   ]
  },
  {
   "cell_type": "code",
   "execution_count": 16,
   "metadata": {},
   "outputs": [],
   "source": [
    "#✅RUN\n",
    "#Elimino las filas que al menos tienen 15 de las 17 columnas valores que no son NaN\n",
    "shark_clean = shark.dropna(axis=0, thresh=15)"
   ]
  },
  {
   "cell_type": "code",
   "execution_count": 17,
   "metadata": {},
   "outputs": [
    {
     "data": {
      "text/plain": [
       "(4138, 17)"
      ]
     },
     "execution_count": 17,
     "metadata": {},
     "output_type": "execute_result"
    }
   ],
   "source": [
    "#✅RUN\n",
    "shark_clean.shape"
   ]
  },
  {
   "cell_type": "code",
   "execution_count": 18,
   "metadata": {},
   "outputs": [
    {
     "data": {
      "text/plain": [
       "Case Number                  0\n",
       "Date                         0\n",
       "Year                         0\n",
       "Type                         0\n",
       "Country                      0\n",
       "Area                        46\n",
       "Location                    49\n",
       "Activity                    55\n",
       "Name                         5\n",
       "Sex                         60\n",
       "Age                        877\n",
       "Injury                       1\n",
       "Fatal (Y/N)                212\n",
       "Time                      1298\n",
       "Species                   1310\n",
       "Investigator or Source       3\n",
       "href formula                 0\n",
       "dtype: int64"
      ]
     },
     "execution_count": 18,
     "metadata": {},
     "output_type": "execute_result"
    }
   ],
   "source": [
    "#✅RUN\n",
    "#Verifico cuantos NaN quedan\n",
    "shark_clean.isna().sum()"
   ]
  },
  {
   "cell_type": "code",
   "execution_count": 19,
   "metadata": {},
   "outputs": [
    {
     "data": {
      "text/html": [
       "<div>\n",
       "<style scoped>\n",
       "    .dataframe tbody tr th:only-of-type {\n",
       "        vertical-align: middle;\n",
       "    }\n",
       "\n",
       "    .dataframe tbody tr th {\n",
       "        vertical-align: top;\n",
       "    }\n",
       "\n",
       "    .dataframe thead th {\n",
       "        text-align: right;\n",
       "    }\n",
       "</style>\n",
       "<table border=\"1\" class=\"dataframe\">\n",
       "  <thead>\n",
       "    <tr style=\"text-align: right;\">\n",
       "      <th></th>\n",
       "      <th>Case Number</th>\n",
       "      <th>Date</th>\n",
       "      <th>Type</th>\n",
       "      <th>Country</th>\n",
       "      <th>Area</th>\n",
       "      <th>Location</th>\n",
       "      <th>Activity</th>\n",
       "      <th>Name</th>\n",
       "      <th>Sex</th>\n",
       "      <th>Age</th>\n",
       "      <th>Injury</th>\n",
       "      <th>Fatal (Y/N)</th>\n",
       "      <th>Time</th>\n",
       "      <th>Species</th>\n",
       "      <th>Investigator or Source</th>\n",
       "      <th>href formula</th>\n",
       "    </tr>\n",
       "  </thead>\n",
       "  <tbody>\n",
       "    <tr>\n",
       "      <th>count</th>\n",
       "      <td>4138</td>\n",
       "      <td>4138</td>\n",
       "      <td>4138</td>\n",
       "      <td>4138</td>\n",
       "      <td>4092</td>\n",
       "      <td>4089</td>\n",
       "      <td>4083</td>\n",
       "      <td>4133</td>\n",
       "      <td>4078</td>\n",
       "      <td>3261</td>\n",
       "      <td>4137</td>\n",
       "      <td>3926</td>\n",
       "      <td>2840</td>\n",
       "      <td>2828</td>\n",
       "      <td>4135</td>\n",
       "      <td>4138</td>\n",
       "    </tr>\n",
       "    <tr>\n",
       "      <th>unique</th>\n",
       "      <td>4130</td>\n",
       "      <td>3665</td>\n",
       "      <td>7</td>\n",
       "      <td>132</td>\n",
       "      <td>495</td>\n",
       "      <td>2964</td>\n",
       "      <td>941</td>\n",
       "      <td>3753</td>\n",
       "      <td>5</td>\n",
       "      <td>148</td>\n",
       "      <td>2668</td>\n",
       "      <td>6</td>\n",
       "      <td>354</td>\n",
       "      <td>1384</td>\n",
       "      <td>3360</td>\n",
       "      <td>4132</td>\n",
       "    </tr>\n",
       "    <tr>\n",
       "      <th>top</th>\n",
       "      <td>1962.06.11.b</td>\n",
       "      <td>12-Apr-2001</td>\n",
       "      <td>Unprovoked</td>\n",
       "      <td>USA</td>\n",
       "      <td>Florida</td>\n",
       "      <td>New Smyrna Beach, Volusia County</td>\n",
       "      <td>Surfing</td>\n",
       "      <td>male</td>\n",
       "      <td>M</td>\n",
       "      <td>18</td>\n",
       "      <td>FATAL</td>\n",
       "      <td>N</td>\n",
       "      <td>Afternoon</td>\n",
       "      <td>White shark</td>\n",
       "      <td>S. Petersohn, GSAF</td>\n",
       "      <td>http://sharkattackfile.net/spreadsheets/pdf_di...</td>\n",
       "    </tr>\n",
       "    <tr>\n",
       "      <th>freq</th>\n",
       "      <td>2</td>\n",
       "      <td>5</td>\n",
       "      <td>3306</td>\n",
       "      <td>1788</td>\n",
       "      <td>899</td>\n",
       "      <td>160</td>\n",
       "      <td>893</td>\n",
       "      <td>261</td>\n",
       "      <td>3565</td>\n",
       "      <td>142</td>\n",
       "      <td>337</td>\n",
       "      <td>3227</td>\n",
       "      <td>181</td>\n",
       "      <td>140</td>\n",
       "      <td>82</td>\n",
       "      <td>2</td>\n",
       "    </tr>\n",
       "  </tbody>\n",
       "</table>\n",
       "</div>"
      ],
      "text/plain": [
       "         Case Number         Date        Type Country     Area  \\\n",
       "count           4138         4138        4138    4138     4092   \n",
       "unique          4130         3665           7     132      495   \n",
       "top     1962.06.11.b  12-Apr-2001  Unprovoked     USA  Florida   \n",
       "freq               2            5        3306    1788      899   \n",
       "\n",
       "                                Location Activity  Name  Sex    Age Injury  \\\n",
       "count                               4089     4083  4133  4078  3261   4137   \n",
       "unique                              2964      941  3753     5   148   2668   \n",
       "top     New Smyrna Beach, Volusia County  Surfing  male     M    18  FATAL   \n",
       "freq                                 160      893   261  3565   142    337   \n",
       "\n",
       "       Fatal (Y/N)       Time     Species  Investigator or Source  \\\n",
       "count         3926       2840         2828                   4135   \n",
       "unique           6        354         1384                   3360   \n",
       "top              N  Afternoon  White shark     S. Petersohn, GSAF   \n",
       "freq          3227        181          140                     82   \n",
       "\n",
       "                                             href formula  \n",
       "count                                                4138  \n",
       "unique                                               4132  \n",
       "top     http://sharkattackfile.net/spreadsheets/pdf_di...  \n",
       "freq                                                    2  "
      ]
     },
     "execution_count": 19,
     "metadata": {},
     "output_type": "execute_result"
    }
   ],
   "source": [
    "#✅RUN\n",
    "'''Muestro una descripción de los datos:\n",
    "count: contabiliza el total de datos\n",
    "unique: total de valores únicos\n",
    "top: el valor que más se repite\n",
    "freq: frecuencia con la que se repite el valor anterior'''\n",
    "shark_clean.describe(include='O')"
   ]
  },
  {
   "cell_type": "code",
   "execution_count": 20,
   "metadata": {},
   "outputs": [
    {
     "data": {
      "text/plain": [
       "'Las especies no están unificadas, hay descripciones y no nombres concreto'"
      ]
     },
     "execution_count": 20,
     "metadata": {},
     "output_type": "execute_result"
    }
   ],
   "source": [
    "'''Las especies no están unificadas, hay descripciones y no nombres concreto'''\n",
    "#shark_clean[\"Species \"].unique()"
   ]
  },
  {
   "cell_type": "code",
   "execution_count": 21,
   "metadata": {},
   "outputs": [
    {
     "data": {
      "text/html": [
       "<div>\n",
       "<style scoped>\n",
       "    .dataframe tbody tr th:only-of-type {\n",
       "        vertical-align: middle;\n",
       "    }\n",
       "\n",
       "    .dataframe tbody tr th {\n",
       "        vertical-align: top;\n",
       "    }\n",
       "\n",
       "    .dataframe thead th {\n",
       "        text-align: right;\n",
       "    }\n",
       "</style>\n",
       "<table border=\"1\" class=\"dataframe\">\n",
       "  <thead>\n",
       "    <tr style=\"text-align: right;\">\n",
       "      <th></th>\n",
       "      <th>Case Number</th>\n",
       "      <th>Date</th>\n",
       "      <th>Year</th>\n",
       "      <th>Type</th>\n",
       "      <th>Country</th>\n",
       "      <th>Area</th>\n",
       "      <th>Location</th>\n",
       "      <th>Activity</th>\n",
       "      <th>Name</th>\n",
       "      <th>Sex</th>\n",
       "      <th>Age</th>\n",
       "      <th>Injury</th>\n",
       "      <th>Fatal (Y/N)</th>\n",
       "      <th>Time</th>\n",
       "      <th>Species</th>\n",
       "      <th>Investigator or Source</th>\n",
       "      <th>href formula</th>\n",
       "    </tr>\n",
       "  </thead>\n",
       "  <tbody>\n",
       "  </tbody>\n",
       "</table>\n",
       "</div>"
      ],
      "text/plain": [
       "Empty DataFrame\n",
       "Columns: [Case Number, Date, Year, Type, Country, Area, Location, Activity, Name, Sex , Age, Injury, Fatal (Y/N), Time, Species , Investigator or Source, href formula]\n",
       "Index: []"
      ]
     },
     "execution_count": 21,
     "metadata": {},
     "output_type": "execute_result"
    }
   ],
   "source": [
    "#✅RUN\n",
    "#Verificar que no hay duplicados en las columnas\n",
    "shark_clean[shark_clean.duplicated(subset=['Case Number','Date','Year','Type','Country','Area','Location','Activity','Name','Sex ','Age','Injury','Fatal (Y/N)','Time','Species ','Investigator or Source','href formula'],keep=False)]"
   ]
  },
  {
   "cell_type": "code",
   "execution_count": 22,
   "metadata": {},
   "outputs": [
    {
     "data": {
      "text/html": [
       "<div>\n",
       "<style scoped>\n",
       "    .dataframe tbody tr th:only-of-type {\n",
       "        vertical-align: middle;\n",
       "    }\n",
       "\n",
       "    .dataframe tbody tr th {\n",
       "        vertical-align: top;\n",
       "    }\n",
       "\n",
       "    .dataframe thead th {\n",
       "        text-align: right;\n",
       "    }\n",
       "</style>\n",
       "<table border=\"1\" class=\"dataframe\">\n",
       "  <thead>\n",
       "    <tr style=\"text-align: right;\">\n",
       "      <th></th>\n",
       "      <th>CaseNumber</th>\n",
       "      <th>Date</th>\n",
       "      <th>Year</th>\n",
       "      <th>Type</th>\n",
       "      <th>Country</th>\n",
       "      <th>Area</th>\n",
       "      <th>Location</th>\n",
       "      <th>Activity</th>\n",
       "      <th>Name</th>\n",
       "      <th>Sex</th>\n",
       "      <th>Age</th>\n",
       "      <th>Injury</th>\n",
       "      <th>Fatal(Y/N)</th>\n",
       "      <th>Time</th>\n",
       "      <th>Species</th>\n",
       "      <th>InvestigatororSource</th>\n",
       "      <th>hrefformula</th>\n",
       "    </tr>\n",
       "  </thead>\n",
       "  <tbody>\n",
       "    <tr>\n",
       "      <th>0</th>\n",
       "      <td>2018.06.25</td>\n",
       "      <td>25-Jun-2018</td>\n",
       "      <td>2018.0</td>\n",
       "      <td>Boating</td>\n",
       "      <td>USA</td>\n",
       "      <td>California</td>\n",
       "      <td>Oceanside, San Diego County</td>\n",
       "      <td>Paddling</td>\n",
       "      <td>Julie Wolfe</td>\n",
       "      <td>F</td>\n",
       "      <td>57</td>\n",
       "      <td>No injury to occupant, outrigger canoe and pad...</td>\n",
       "      <td>N</td>\n",
       "      <td>18h00</td>\n",
       "      <td>White shark</td>\n",
       "      <td>R. Collier, GSAF</td>\n",
       "      <td>http://sharkattackfile.net/spreadsheets/pdf_di...</td>\n",
       "    </tr>\n",
       "    <tr>\n",
       "      <th>1</th>\n",
       "      <td>2018.06.18</td>\n",
       "      <td>18-Jun-2018</td>\n",
       "      <td>2018.0</td>\n",
       "      <td>Unprovoked</td>\n",
       "      <td>USA</td>\n",
       "      <td>Georgia</td>\n",
       "      <td>St. Simon Island, Glynn County</td>\n",
       "      <td>Standing</td>\n",
       "      <td>Adyson McNeely</td>\n",
       "      <td>F</td>\n",
       "      <td>11</td>\n",
       "      <td>Minor injury to left thigh</td>\n",
       "      <td>N</td>\n",
       "      <td>14h00  -15h00</td>\n",
       "      <td>NaN</td>\n",
       "      <td>K.McMurray, TrackingSharks.com</td>\n",
       "      <td>http://sharkattackfile.net/spreadsheets/pdf_di...</td>\n",
       "    </tr>\n",
       "    <tr>\n",
       "      <th>2</th>\n",
       "      <td>2018.06.09</td>\n",
       "      <td>09-Jun-2018</td>\n",
       "      <td>2018.0</td>\n",
       "      <td>Invalid</td>\n",
       "      <td>USA</td>\n",
       "      <td>Hawaii</td>\n",
       "      <td>Habush, Oahu</td>\n",
       "      <td>Surfing</td>\n",
       "      <td>John Denges</td>\n",
       "      <td>M</td>\n",
       "      <td>48</td>\n",
       "      <td>Injury to left lower leg from surfboard skeg</td>\n",
       "      <td>N</td>\n",
       "      <td>07h45</td>\n",
       "      <td>NaN</td>\n",
       "      <td>K.McMurray, TrackingSharks.com</td>\n",
       "      <td>http://sharkattackfile.net/spreadsheets/pdf_di...</td>\n",
       "    </tr>\n",
       "    <tr>\n",
       "      <th>3</th>\n",
       "      <td>2018.06.08</td>\n",
       "      <td>08-Jun-2018</td>\n",
       "      <td>2018.0</td>\n",
       "      <td>Unprovoked</td>\n",
       "      <td>AUSTRALIA</td>\n",
       "      <td>New South Wales</td>\n",
       "      <td>Arrawarra Headland</td>\n",
       "      <td>Surfing</td>\n",
       "      <td>male</td>\n",
       "      <td>M</td>\n",
       "      <td>NaN</td>\n",
       "      <td>Minor injury to lower leg</td>\n",
       "      <td>N</td>\n",
       "      <td>NaN</td>\n",
       "      <td>2 m shark</td>\n",
       "      <td>B. Myatt, GSAF</td>\n",
       "      <td>http://sharkattackfile.net/spreadsheets/pdf_di...</td>\n",
       "    </tr>\n",
       "    <tr>\n",
       "      <th>4</th>\n",
       "      <td>2018.06.04</td>\n",
       "      <td>04-Jun-2018</td>\n",
       "      <td>2018.0</td>\n",
       "      <td>Provoked</td>\n",
       "      <td>MEXICO</td>\n",
       "      <td>Colima</td>\n",
       "      <td>La Ticla</td>\n",
       "      <td>Free diving</td>\n",
       "      <td>Gustavo Ramos</td>\n",
       "      <td>M</td>\n",
       "      <td>NaN</td>\n",
       "      <td>Lacerations to leg &amp; hand shark PROVOKED INCIDENT</td>\n",
       "      <td>N</td>\n",
       "      <td>NaN</td>\n",
       "      <td>Tiger shark, 3m</td>\n",
       "      <td>A .Kipper</td>\n",
       "      <td>http://sharkattackfile.net/spreadsheets/pdf_di...</td>\n",
       "    </tr>\n",
       "  </tbody>\n",
       "</table>\n",
       "</div>"
      ],
      "text/plain": [
       "   CaseNumber         Date    Year        Type    Country             Area  \\\n",
       "0  2018.06.25  25-Jun-2018  2018.0     Boating        USA       California   \n",
       "1  2018.06.18  18-Jun-2018  2018.0  Unprovoked        USA          Georgia   \n",
       "2  2018.06.09  09-Jun-2018  2018.0     Invalid        USA           Hawaii   \n",
       "3  2018.06.08  08-Jun-2018  2018.0  Unprovoked  AUSTRALIA  New South Wales   \n",
       "4  2018.06.04  04-Jun-2018  2018.0    Provoked     MEXICO           Colima   \n",
       "\n",
       "                         Location     Activity             Name Sex  Age  \\\n",
       "0     Oceanside, San Diego County     Paddling      Julie Wolfe   F   57   \n",
       "1  St. Simon Island, Glynn County     Standing  Adyson McNeely    F   11   \n",
       "2                    Habush, Oahu      Surfing      John Denges   M   48   \n",
       "3              Arrawarra Headland      Surfing             male   M  NaN   \n",
       "4                        La Ticla  Free diving   Gustavo Ramos    M  NaN   \n",
       "\n",
       "                                              Injury Fatal(Y/N)  \\\n",
       "0  No injury to occupant, outrigger canoe and pad...          N   \n",
       "1                         Minor injury to left thigh          N   \n",
       "2       Injury to left lower leg from surfboard skeg          N   \n",
       "3                          Minor injury to lower leg          N   \n",
       "4  Lacerations to leg & hand shark PROVOKED INCIDENT          N   \n",
       "\n",
       "            Time          Species            InvestigatororSource  \\\n",
       "0          18h00      White shark                R. Collier, GSAF   \n",
       "1  14h00  -15h00              NaN  K.McMurray, TrackingSharks.com   \n",
       "2          07h45              NaN  K.McMurray, TrackingSharks.com   \n",
       "3            NaN        2 m shark                  B. Myatt, GSAF   \n",
       "4            NaN  Tiger shark, 3m                       A .Kipper   \n",
       "\n",
       "                                         hrefformula  \n",
       "0  http://sharkattackfile.net/spreadsheets/pdf_di...  \n",
       "1  http://sharkattackfile.net/spreadsheets/pdf_di...  \n",
       "2  http://sharkattackfile.net/spreadsheets/pdf_di...  \n",
       "3  http://sharkattackfile.net/spreadsheets/pdf_di...  \n",
       "4  http://sharkattackfile.net/spreadsheets/pdf_di...  "
      ]
     },
     "execution_count": 22,
     "metadata": {},
     "output_type": "execute_result"
    }
   ],
   "source": [
    "#✅RUN\n",
    "#Reemplazo los nombres de las columnas\n",
    "shark_clean.columns = shark_clean.columns.str.replace(' ', '')\n",
    "shark_clean.head()\n"
   ]
  },
  {
   "cell_type": "code",
   "execution_count": 23,
   "metadata": {},
   "outputs": [
    {
     "data": {
      "text/plain": [
       "array(['25-Jun-2018', '18-Jun-2018', '09-Jun-2018', ..., '1940 - 1950',\n",
       "       'Before 1906', '1845-1853'], dtype=object)"
      ]
     },
     "execution_count": 23,
     "metadata": {},
     "output_type": "execute_result"
    }
   ],
   "source": [
    "#✅RUN\n",
    "#Convertir la columna de fecha en tipo Date\n",
    "shark_clean[\"Date\"].unique()"
   ]
  },
  {
   "cell_type": "code",
   "execution_count": 24,
   "metadata": {},
   "outputs": [],
   "source": [
    "#shark_clean"
   ]
  },
  {
   "cell_type": "code",
   "execution_count": 25,
   "metadata": {},
   "outputs": [
    {
     "name": "stderr",
     "output_type": "stream",
     "text": [
      "<ipython-input-25-59cb7de7cf2e>:3: SettingWithCopyWarning: \n",
      "A value is trying to be set on a copy of a slice from a DataFrame.\n",
      "Try using .loc[row_indexer,col_indexer] = value instead\n",
      "\n",
      "See the caveats in the documentation: https://pandas.pydata.org/pandas-docs/stable/user_guide/indexing.html#returning-a-view-versus-a-copy\n",
      "  shark_clean[\"NewDate\"] = pd.to_datetime(shark_clean[\"Date\"], errors='coerce')\n"
     ]
    }
   ],
   "source": [
    "#✅RUN\n",
    "#Convierto todo a tipo Date y lo que no puede convertir muestra el error con tipo de dato NaT\n",
    "shark_clean[\"NewDate\"] = pd.to_datetime(shark_clean[\"Date\"], errors='coerce')"
   ]
  },
  {
   "cell_type": "code",
   "execution_count": 26,
   "metadata": {},
   "outputs": [],
   "source": [
    "#shark_clean"
   ]
  },
  {
   "cell_type": "code",
   "execution_count": 27,
   "metadata": {},
   "outputs": [
    {
     "name": "stderr",
     "output_type": "stream",
     "text": [
      "<ipython-input-27-2ebb79799d05>:3: SettingWithCopyWarning: \n",
      "A value is trying to be set on a copy of a slice from a DataFrame.\n",
      "Try using .loc[row_indexer,col_indexer] = value instead\n",
      "\n",
      "See the caveats in the documentation: https://pandas.pydata.org/pandas-docs/stable/user_guide/indexing.html#returning-a-view-versus-a-copy\n",
      "  shark_clean[\"NewMonth\"] = shark_clean[\"NewDate\"].dt.strftime('%m')\n"
     ]
    }
   ],
   "source": [
    "#✅RUN\n",
    "#Extraigo solo el mes\n",
    "shark_clean[\"NewMonth\"] = shark_clean[\"NewDate\"].dt.strftime('%m')"
   ]
  },
  {
   "cell_type": "code",
   "execution_count": 28,
   "metadata": {},
   "outputs": [
    {
     "data": {
      "text/html": [
       "<div>\n",
       "<style scoped>\n",
       "    .dataframe tbody tr th:only-of-type {\n",
       "        vertical-align: middle;\n",
       "    }\n",
       "\n",
       "    .dataframe tbody tr th {\n",
       "        vertical-align: top;\n",
       "    }\n",
       "\n",
       "    .dataframe thead th {\n",
       "        text-align: right;\n",
       "    }\n",
       "</style>\n",
       "<table border=\"1\" class=\"dataframe\">\n",
       "  <thead>\n",
       "    <tr style=\"text-align: right;\">\n",
       "      <th></th>\n",
       "      <th>CaseNumber</th>\n",
       "      <th>Date</th>\n",
       "      <th>Year</th>\n",
       "      <th>Type</th>\n",
       "      <th>Country</th>\n",
       "      <th>Area</th>\n",
       "      <th>Location</th>\n",
       "      <th>Activity</th>\n",
       "      <th>Name</th>\n",
       "      <th>Sex</th>\n",
       "      <th>Age</th>\n",
       "      <th>Injury</th>\n",
       "      <th>Fatal(Y/N)</th>\n",
       "      <th>Time</th>\n",
       "      <th>Species</th>\n",
       "      <th>InvestigatororSource</th>\n",
       "      <th>hrefformula</th>\n",
       "      <th>NewDate</th>\n",
       "      <th>NewMonth</th>\n",
       "    </tr>\n",
       "  </thead>\n",
       "  <tbody>\n",
       "    <tr>\n",
       "      <th>2889</th>\n",
       "      <td>1984.07.24.a</td>\n",
       "      <td>24-Jul-1984</td>\n",
       "      <td>1984.0</td>\n",
       "      <td>Unprovoked</td>\n",
       "      <td>USA</td>\n",
       "      <td>Texas</td>\n",
       "      <td>South Padre Island</td>\n",
       "      <td>Swimming</td>\n",
       "      <td>Carmen Gaytan</td>\n",
       "      <td>F</td>\n",
       "      <td>18</td>\n",
       "      <td>Legs severely lacerated</td>\n",
       "      <td>N</td>\n",
       "      <td>12h00</td>\n",
       "      <td>1.2 m [4'] shark</td>\n",
       "      <td>A. MacCormick, pp.8-9</td>\n",
       "      <td>http://sharkattackfile.net/spreadsheets/pdf_di...</td>\n",
       "      <td>1984-07-24</td>\n",
       "      <td>07</td>\n",
       "    </tr>\n",
       "  </tbody>\n",
       "</table>\n",
       "</div>"
      ],
      "text/plain": [
       "        CaseNumber         Date    Year        Type Country   Area  \\\n",
       "2889  1984.07.24.a  24-Jul-1984  1984.0  Unprovoked     USA  Texas   \n",
       "\n",
       "                Location  Activity           Name Sex Age  \\\n",
       "2889  South Padre Island  Swimming  Carmen Gaytan   F  18   \n",
       "\n",
       "                       Injury Fatal(Y/N)   Time           Species  \\\n",
       "2889  Legs severely lacerated          N  12h00  1.2 m [4'] shark   \n",
       "\n",
       "       InvestigatororSource  \\\n",
       "2889  A. MacCormick, pp.8-9   \n",
       "\n",
       "                                            hrefformula    NewDate NewMonth  \n",
       "2889  http://sharkattackfile.net/spreadsheets/pdf_di... 1984-07-24       07  "
      ]
     },
     "execution_count": 28,
     "metadata": {},
     "output_type": "execute_result"
    }
   ],
   "source": [
    "shark_clean.sample()"
   ]
  },
  {
   "cell_type": "code",
   "execution_count": 29,
   "metadata": {},
   "outputs": [
    {
     "name": "stderr",
     "output_type": "stream",
     "text": [
      "/opt/anaconda3/envs/ironhack/lib/python3.8/site-packages/pandas/core/generic.py:6619: SettingWithCopyWarning: \n",
      "A value is trying to be set on a copy of a slice from a DataFrame\n",
      "\n",
      "See the caveats in the documentation: https://pandas.pydata.org/pandas-docs/stable/user_guide/indexing.html#returning-a-view-versus-a-copy\n",
      "  return self._update_inplace(result)\n"
     ]
    }
   ],
   "source": [
    "#✅RUN\n",
    "#Reemplazo los meses númericos por texto\n",
    "shark_clean[\"NewMonth\"].replace({\"01\": \"Jan\",\"02\": \"Feb\",\"03\":\"Mar\",\"04\":\"Apr\",\"05\":\"May\",\"06\":\"Jun\",\"07\":\"Jul\",\"08\":\"Agu\",\"09\":\"Sep\",\"10\":\"Oct\",\"11\":\"Nov\",\"12\":\"Dec\"}, inplace=True)"
   ]
  },
  {
   "cell_type": "code",
   "execution_count": 30,
   "metadata": {},
   "outputs": [],
   "source": [
    "#shark_clean"
   ]
  },
  {
   "cell_type": "code",
   "execution_count": 31,
   "metadata": {},
   "outputs": [
    {
     "name": "stderr",
     "output_type": "stream",
     "text": [
      "<ipython-input-31-44597b16e2c3>:3: SettingWithCopyWarning: \n",
      "A value is trying to be set on a copy of a slice from a DataFrame.\n",
      "Try using .loc[row_indexer,col_indexer] = value instead\n",
      "\n",
      "See the caveats in the documentation: https://pandas.pydata.org/pandas-docs/stable/user_guide/indexing.html#returning-a-view-versus-a-copy\n",
      "  shark_clean[\"NewYear\"] = shark_clean[\"NewDate\"].dt.strftime('%Y')\n"
     ]
    }
   ],
   "source": [
    "#✅RUN\n",
    "#Obtengo los años\n",
    "shark_clean[\"NewYear\"] = shark_clean[\"NewDate\"].dt.strftime('%Y')"
   ]
  },
  {
   "cell_type": "code",
   "execution_count": 32,
   "metadata": {},
   "outputs": [],
   "source": [
    "#shark_clean"
   ]
  },
  {
   "cell_type": "code",
   "execution_count": 33,
   "metadata": {},
   "outputs": [
    {
     "name": "stderr",
     "output_type": "stream",
     "text": [
      "<ipython-input-33-63d017229873>:4: SettingWithCopyWarning: \n",
      "A value is trying to be set on a copy of a slice from a DataFrame.\n",
      "Try using .loc[row_indexer,col_indexer] = value instead\n",
      "\n",
      "See the caveats in the documentation: https://pandas.pydata.org/pandas-docs/stable/user_guide/indexing.html#returning-a-view-versus-a-copy\n",
      "  shark_clean[\"NewDay\"] = shark_clean[\"NewDate\"].dt.strftime('%d')\n"
     ]
    }
   ],
   "source": [
    "#✅RUN\n",
    "'''Obtengo los días (puede ser útil para ver los casos que suceden a principios o finales de los meses aunque no será \n",
    "muy representativo por que hay muchos NaN)'''\n",
    "shark_clean[\"NewDay\"] = shark_clean[\"NewDate\"].dt.strftime('%d')"
   ]
  },
  {
   "cell_type": "code",
   "execution_count": 34,
   "metadata": {},
   "outputs": [],
   "source": [
    "#shark_clean"
   ]
  },
  {
   "cell_type": "code",
   "execution_count": 35,
   "metadata": {},
   "outputs": [
    {
     "name": "stderr",
     "output_type": "stream",
     "text": [
      "/opt/anaconda3/envs/ironhack/lib/python3.8/site-packages/pandas/core/frame.py:4906: SettingWithCopyWarning: \n",
      "A value is trying to be set on a copy of a slice from a DataFrame\n",
      "\n",
      "See the caveats in the documentation: https://pandas.pydata.org/pandas-docs/stable/user_guide/indexing.html#returning-a-view-versus-a-copy\n",
      "  return super().drop(\n"
     ]
    }
   ],
   "source": [
    "#✅RUN\n",
    "#Borro la columna Date que ya no necesito\n",
    "shark_clean.drop(['Date'], axis=1, inplace=True)"
   ]
  },
  {
   "cell_type": "code",
   "execution_count": 36,
   "metadata": {},
   "outputs": [],
   "source": [
    "#✅RUN\n",
    "#Borro la columna Year porque el año ya lo tengo en la nueva columna NewYear\n",
    "shark_clean.drop(['Year'], axis=1, inplace=True)"
   ]
  },
  {
   "cell_type": "code",
   "execution_count": 37,
   "metadata": {},
   "outputs": [
    {
     "data": {
      "text/plain": [
       "array(['Boating', 'Unprovoked', 'Invalid', 'Provoked', 'Questionable',\n",
       "       'Boat', 'Sea Disaster'], dtype=object)"
      ]
     },
     "execution_count": 37,
     "metadata": {},
     "output_type": "execute_result"
    }
   ],
   "source": [
    "#Esta columna tiene datos válidos\n",
    "shark_clean[\"Type\"].unique()"
   ]
  },
  {
   "cell_type": "code",
   "execution_count": 38,
   "metadata": {},
   "outputs": [],
   "source": [
    "#Esta columna tiene datos válidos\n",
    "#shark_clean[\"Country\"].unique()"
   ]
  },
  {
   "cell_type": "code",
   "execution_count": 39,
   "metadata": {},
   "outputs": [],
   "source": [
    "#No son útiles todos los datos, hay localizaciones inespecíficas y coordenadas, no son datos uniformes\n",
    "#shark_clean[\"Area\"].unique()"
   ]
  },
  {
   "cell_type": "code",
   "execution_count": 40,
   "metadata": {},
   "outputs": [],
   "source": [
    "#No son útiles todos los datos, hay localizaciones inespecíficas\n",
    "#shark_clean[\"Location\"].unique()"
   ]
  },
  {
   "cell_type": "code",
   "execution_count": 41,
   "metadata": {},
   "outputs": [],
   "source": [
    "#shark_clean[\"Activity\"].unique()"
   ]
  },
  {
   "cell_type": "code",
   "execution_count": 42,
   "metadata": {},
   "outputs": [],
   "source": [
    "#shark_clean[\"Age\"].unique()"
   ]
  },
  {
   "cell_type": "code",
   "execution_count": 122,
   "metadata": {},
   "outputs": [],
   "source": [
    "#✅RUN\n",
    "#Función para obtener las edades limpias\n",
    "def newAge(x):\n",
    "    try:\n",
    "        if int(x) in list(range(100)):\n",
    "            return int(x)\n",
    "    except:\n",
    "        return np.nan\n",
    "        next"
   ]
  },
  {
   "cell_type": "code",
   "execution_count": 123,
   "metadata": {},
   "outputs": [
    {
     "name": "stderr",
     "output_type": "stream",
     "text": [
      "<ipython-input-123-4613a27da8f1>:3: SettingWithCopyWarning: \n",
      "A value is trying to be set on a copy of a slice from a DataFrame.\n",
      "Try using .loc[row_indexer,col_indexer] = value instead\n",
      "\n",
      "See the caveats in the documentation: https://pandas.pydata.org/pandas-docs/stable/user_guide/indexing.html#returning-a-view-versus-a-copy\n",
      "  shark_clean['NewAge'] = shark_clean.Age.apply(newAge)\n"
     ]
    }
   ],
   "source": [
    "#✅RUN\n",
    "#Creo una nueva columna NewAge para guardar las edades aplicando la función\n",
    "shark_clean['NewAge'] = shark_clean.Age.apply(newAge)"
   ]
  },
  {
   "cell_type": "code",
   "execution_count": 129,
   "metadata": {},
   "outputs": [
    {
     "data": {
      "text/html": [
       "<div>\n",
       "<style scoped>\n",
       "    .dataframe tbody tr th:only-of-type {\n",
       "        vertical-align: middle;\n",
       "    }\n",
       "\n",
       "    .dataframe tbody tr th {\n",
       "        vertical-align: top;\n",
       "    }\n",
       "\n",
       "    .dataframe thead th {\n",
       "        text-align: right;\n",
       "    }\n",
       "</style>\n",
       "<table border=\"1\" class=\"dataframe\">\n",
       "  <thead>\n",
       "    <tr style=\"text-align: right;\">\n",
       "      <th></th>\n",
       "      <th>CaseNumber</th>\n",
       "      <th>Type</th>\n",
       "      <th>Country</th>\n",
       "      <th>Area</th>\n",
       "      <th>Location</th>\n",
       "      <th>Activity</th>\n",
       "      <th>Name</th>\n",
       "      <th>Sex</th>\n",
       "      <th>Age</th>\n",
       "      <th>Injury</th>\n",
       "      <th>Fatal(Y/N)</th>\n",
       "      <th>Time</th>\n",
       "      <th>Species</th>\n",
       "      <th>InvestigatororSource</th>\n",
       "      <th>hrefformula</th>\n",
       "      <th>NewDate</th>\n",
       "      <th>NewMonth</th>\n",
       "      <th>NewYear</th>\n",
       "      <th>NewDay</th>\n",
       "      <th>NewAge</th>\n",
       "    </tr>\n",
       "  </thead>\n",
       "  <tbody>\n",
       "    <tr>\n",
       "      <th>79</th>\n",
       "      <td>2017.09.24.b</td>\n",
       "      <td>Invalid</td>\n",
       "      <td>USA</td>\n",
       "      <td>New York</td>\n",
       "      <td>Rockaway</td>\n",
       "      <td>Surfing</td>\n",
       "      <td>Michah Behrend</td>\n",
       "      <td>M</td>\n",
       "      <td>33</td>\n",
       "      <td>Lacerations to right ankle, foot &amp; toe</td>\n",
       "      <td>NaN</td>\n",
       "      <td>15h30</td>\n",
       "      <td>Questionable</td>\n",
       "      <td>S. Curatolo-Wageman, GSAF</td>\n",
       "      <td>http://sharkattackfile.net/spreadsheets/pdf_di...</td>\n",
       "      <td>2017-09-24</td>\n",
       "      <td>Sep</td>\n",
       "      <td>2017</td>\n",
       "      <td>24</td>\n",
       "      <td>33.0</td>\n",
       "    </tr>\n",
       "  </tbody>\n",
       "</table>\n",
       "</div>"
      ],
      "text/plain": [
       "      CaseNumber     Type Country      Area  Location Activity  \\\n",
       "79  2017.09.24.b  Invalid     USA  New York  Rockaway  Surfing   \n",
       "\n",
       "              Name Sex Age                                  Injury Fatal(Y/N)  \\\n",
       "79  Michah Behrend   M  33  Lacerations to right ankle, foot & toe        NaN   \n",
       "\n",
       "     Time       Species       InvestigatororSource  \\\n",
       "79  15h30  Questionable  S. Curatolo-Wageman, GSAF   \n",
       "\n",
       "                                          hrefformula    NewDate NewMonth  \\\n",
       "79  http://sharkattackfile.net/spreadsheets/pdf_di... 2017-09-24      Sep   \n",
       "\n",
       "   NewYear NewDay  NewAge  \n",
       "79    2017     24    33.0  "
      ]
     },
     "execution_count": 129,
     "metadata": {},
     "output_type": "execute_result"
    }
   ],
   "source": [
    "shark_clean.sample()"
   ]
  },
  {
   "cell_type": "code",
   "execution_count": 131,
   "metadata": {},
   "outputs": [],
   "source": [
    "#shark_clean[\"NewAge\"]"
   ]
  },
  {
   "cell_type": "code",
   "execution_count": 132,
   "metadata": {},
   "outputs": [
    {
     "data": {
      "text/plain": [
       "array(['F', 'M', nan, 'M ', 'lli', 'N'], dtype=object)"
      ]
     },
     "execution_count": 132,
     "metadata": {},
     "output_type": "execute_result"
    }
   ],
   "source": [
    "#✅RUN\n",
    "#Verifico los valores para limpiarlos, solo me quedo con M y F\n",
    "shark_clean['Sex'].unique()"
   ]
  },
  {
   "cell_type": "code",
   "execution_count": 133,
   "metadata": {},
   "outputs": [],
   "source": [
    "#✅RUN\n",
    "#Función para limpiar la columna Sex\n",
    "def sex(x):\n",
    "    if x not in (\"F\",\"M\"):\n",
    "        return 'unknown'\n",
    "    else:\n",
    "        return x        "
   ]
  },
  {
   "cell_type": "code",
   "execution_count": 134,
   "metadata": {},
   "outputs": [
    {
     "name": "stderr",
     "output_type": "stream",
     "text": [
      "<ipython-input-134-9b48b9460c0a>:3: SettingWithCopyWarning: \n",
      "A value is trying to be set on a copy of a slice from a DataFrame.\n",
      "Try using .loc[row_indexer,col_indexer] = value instead\n",
      "\n",
      "See the caveats in the documentation: https://pandas.pydata.org/pandas-docs/stable/user_guide/indexing.html#returning-a-view-versus-a-copy\n",
      "  shark_clean['Sex'] = shark_clean.Sex.apply(sex)\n"
     ]
    }
   ],
   "source": [
    "#✅RUN\n",
    "#Aplico la función sobre la columna\n",
    "shark_clean['Sex'] = shark_clean.Sex.apply(sex)"
   ]
  },
  {
   "cell_type": "code",
   "execution_count": 135,
   "metadata": {},
   "outputs": [],
   "source": [
    "#shark_clean[\"Sex\"].unique()"
   ]
  },
  {
   "cell_type": "code",
   "execution_count": 136,
   "metadata": {},
   "outputs": [
    {
     "data": {
      "text/plain": [
       "array(['N', 'Y', nan, 'M', '2017', 'UNKNOWN', ' N'], dtype=object)"
      ]
     },
     "execution_count": 136,
     "metadata": {},
     "output_type": "execute_result"
    }
   ],
   "source": [
    "shark_clean[\"Fatal(Y/N)\"].unique()"
   ]
  },
  {
   "cell_type": "code",
   "execution_count": 137,
   "metadata": {},
   "outputs": [],
   "source": [
    "#✅RUN\n",
    "#Cambio el nombre de la columna Fatal(Y/N) para que no de problemas al hacer la función \n",
    "shark = shark_clean.rename(columns={'Fatal(Y/N)':'Fatal'})"
   ]
  },
  {
   "cell_type": "code",
   "execution_count": 138,
   "metadata": {},
   "outputs": [
    {
     "data": {
      "text/html": [
       "<div>\n",
       "<style scoped>\n",
       "    .dataframe tbody tr th:only-of-type {\n",
       "        vertical-align: middle;\n",
       "    }\n",
       "\n",
       "    .dataframe tbody tr th {\n",
       "        vertical-align: top;\n",
       "    }\n",
       "\n",
       "    .dataframe thead th {\n",
       "        text-align: right;\n",
       "    }\n",
       "</style>\n",
       "<table border=\"1\" class=\"dataframe\">\n",
       "  <thead>\n",
       "    <tr style=\"text-align: right;\">\n",
       "      <th></th>\n",
       "      <th>CaseNumber</th>\n",
       "      <th>Type</th>\n",
       "      <th>Country</th>\n",
       "      <th>Area</th>\n",
       "      <th>Location</th>\n",
       "      <th>Activity</th>\n",
       "      <th>Name</th>\n",
       "      <th>Sex</th>\n",
       "      <th>Age</th>\n",
       "      <th>Injury</th>\n",
       "      <th>Fatal</th>\n",
       "      <th>Time</th>\n",
       "      <th>Species</th>\n",
       "      <th>InvestigatororSource</th>\n",
       "      <th>hrefformula</th>\n",
       "      <th>NewDate</th>\n",
       "      <th>NewMonth</th>\n",
       "      <th>NewYear</th>\n",
       "      <th>NewDay</th>\n",
       "      <th>NewAge</th>\n",
       "    </tr>\n",
       "  </thead>\n",
       "  <tbody>\n",
       "    <tr>\n",
       "      <th>3937</th>\n",
       "      <td>1961.01.01</td>\n",
       "      <td>Unprovoked</td>\n",
       "      <td>COLUMBIA</td>\n",
       "      <td>Roncador Bank</td>\n",
       "      <td>Roncador Bank, 135 nm north of San Andres</td>\n",
       "      <td>Taking boat from California to Florida when it...</td>\n",
       "      <td>Joe Chaney</td>\n",
       "      <td>M</td>\n",
       "      <td>NaN</td>\n",
       "      <td>Leg bitten</td>\n",
       "      <td>N</td>\n",
       "      <td>NaN</td>\n",
       "      <td>1.8 m [6'] shark</td>\n",
       "      <td>V.M. Coppleson (1962) p.246</td>\n",
       "      <td>http://sharkattackfile.net/spreadsheets/pdf_di...</td>\n",
       "      <td>1961-01-01</td>\n",
       "      <td>Jan</td>\n",
       "      <td>1961</td>\n",
       "      <td>01</td>\n",
       "      <td>NaN</td>\n",
       "    </tr>\n",
       "  </tbody>\n",
       "</table>\n",
       "</div>"
      ],
      "text/plain": [
       "      CaseNumber        Type   Country           Area  \\\n",
       "3937  1961.01.01  Unprovoked  COLUMBIA  Roncador Bank   \n",
       "\n",
       "                                        Location  \\\n",
       "3937  Roncador Bank, 135 nm north of San Andres    \n",
       "\n",
       "                                               Activity         Name Sex  Age  \\\n",
       "3937  Taking boat from California to Florida when it...  Joe Chaney    M  NaN   \n",
       "\n",
       "          Injury Fatal Time           Species         InvestigatororSource  \\\n",
       "3937  Leg bitten     N  NaN  1.8 m [6'] shark  V.M. Coppleson (1962) p.246   \n",
       "\n",
       "                                            hrefformula    NewDate NewMonth  \\\n",
       "3937  http://sharkattackfile.net/spreadsheets/pdf_di... 1961-01-01      Jan   \n",
       "\n",
       "     NewYear NewDay  NewAge  \n",
       "3937    1961     01     NaN  "
      ]
     },
     "execution_count": 138,
     "metadata": {},
     "output_type": "execute_result"
    }
   ],
   "source": [
    "shark.sample()"
   ]
  },
  {
   "cell_type": "code",
   "execution_count": 139,
   "metadata": {},
   "outputs": [],
   "source": [
    "#✅RUN\n",
    "#Función para limpiar la columna Fatal\n",
    "def fatal(x):\n",
    "    if x not in (\"Y\",\"N\"):\n",
    "        return 'unknown'\n",
    "    else:\n",
    "        return x  "
   ]
  },
  {
   "cell_type": "code",
   "execution_count": 140,
   "metadata": {
    "scrolled": true
   },
   "outputs": [],
   "source": [
    "#✅RUN\n",
    "#Creo nueva columna donde aplico la función fatal\n",
    "shark['NewFatal'] = shark.Fatal.apply(fatal)"
   ]
  },
  {
   "cell_type": "code",
   "execution_count": 141,
   "metadata": {},
   "outputs": [],
   "source": [
    "#shark['NewFatal'].unique()"
   ]
  },
  {
   "cell_type": "code",
   "execution_count": 142,
   "metadata": {},
   "outputs": [],
   "source": [
    "#shark['Species'].unique().tolist()"
   ]
  },
  {
   "cell_type": "code",
   "execution_count": 143,
   "metadata": {},
   "outputs": [],
   "source": [
    "#✅RUN\n",
    "#Creo el regex para seleccionar la palabra que está antes de shark\n",
    "pattern = \"\\w{3,}(?= shark)\""
   ]
  },
  {
   "cell_type": "code",
   "execution_count": 144,
   "metadata": {},
   "outputs": [],
   "source": [
    "#✅RUN\n",
    "'''Función para limpiar la columna de especie, el parámetro lo debo convertir en string porque tiene \n",
    "elementos nan que interpreta como float. El retorno de búsqueda es un array por eso le paso la posición 0. \n",
    "El .title pone la primera letra de la palabra en mayúscula.\n",
    "El return es np.nan para que directamente devuelva un valor nan y así los excluye en las visualizaciones'''\n",
    "def species(x):\n",
    "    busqueda = re.findall(pattern, str(x))\n",
    "    try:\n",
    "        return busqueda[0].title()\n",
    "    except:\n",
    "        return np.nan"
   ]
  },
  {
   "cell_type": "code",
   "execution_count": 145,
   "metadata": {},
   "outputs": [],
   "source": [
    "shark[\"NewSpecies\"] = shark.Species.apply(species)"
   ]
  },
  {
   "cell_type": "code",
   "execution_count": 146,
   "metadata": {},
   "outputs": [
    {
     "data": {
      "text/plain": [
       "Index(['CaseNumber', 'Type', 'Country', 'Area', 'Location', 'Activity', 'Name',\n",
       "       'Sex', 'Age', 'Injury', 'Fatal', 'Time', 'Species',\n",
       "       'InvestigatororSource', 'hrefformula', 'NewDate', 'NewMonth', 'NewYear',\n",
       "       'NewDay', 'NewAge', 'NewFatal', 'NewSpecies'],\n",
       "      dtype='object')"
      ]
     },
     "execution_count": 146,
     "metadata": {},
     "output_type": "execute_result"
    }
   ],
   "source": [
    "shark.columns"
   ]
  },
  {
   "cell_type": "code",
   "execution_count": 147,
   "metadata": {},
   "outputs": [],
   "source": [
    "#✅RUN\n",
    "#Borro las columnas que no necesito para los gráficos\n",
    "shark.drop(['CaseNumber','Name','Injury','Name','Injury','InvestigatororSource','hrefformula','Species'], axis=1, inplace=True)"
   ]
  },
  {
   "cell_type": "code",
   "execution_count": 150,
   "metadata": {},
   "outputs": [
    {
     "data": {
      "text/plain": [
       "(4138, 16)"
      ]
     },
     "execution_count": 150,
     "metadata": {},
     "output_type": "execute_result"
    }
   ],
   "source": [
    "shark.shape"
   ]
  },
  {
   "cell_type": "code",
   "execution_count": null,
   "metadata": {},
   "outputs": [],
   "source": []
  },
  {
   "cell_type": "code",
   "execution_count": null,
   "metadata": {},
   "outputs": [],
   "source": []
  },
  {
   "cell_type": "code",
   "execution_count": null,
   "metadata": {},
   "outputs": [],
   "source": []
  },
  {
   "cell_type": "code",
   "execution_count": 151,
   "metadata": {},
   "outputs": [],
   "source": [
    "#✅RUN\n",
    "#Guardar el DF en un archivo csv\n",
    "shark.to_csv('data/clean.csv')"
   ]
  },
  {
   "cell_type": "code",
   "execution_count": null,
   "metadata": {},
   "outputs": [],
   "source": []
  }
 ],
 "metadata": {
  "kernelspec": {
   "display_name": "ironhack",
   "language": "python",
   "name": "ironhack"
  },
  "language_info": {
   "codemirror_mode": {
    "name": "ipython",
    "version": 3
   },
   "file_extension": ".py",
   "mimetype": "text/x-python",
   "name": "python",
   "nbconvert_exporter": "python",
   "pygments_lexer": "ipython3",
   "version": "3.8.5"
  }
 },
 "nbformat": 4,
 "nbformat_minor": 2
}
